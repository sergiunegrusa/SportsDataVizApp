{
 "cells": [
  {
   "cell_type": "code",
   "execution_count": 2,
   "id": "1a4689b7-5759-48ff-a9fd-3ac90b14afe9",
   "metadata": {},
   "outputs": [
    {
     "ename": "ModuleNotFoundError",
     "evalue": "No module named 'pitchplotter'",
     "output_type": "error",
     "traceback": [
      "\u001b[1;31m---------------------------------------------------------------------------\u001b[0m",
      "\u001b[1;31mModuleNotFoundError\u001b[0m                       Traceback (most recent call last)",
      "Input \u001b[1;32mIn [11]\u001b[0m, in \u001b[0;36m<cell line: 1>\u001b[1;34m()\u001b[0m\n\u001b[1;32m----> 1\u001b[0m \u001b[38;5;28;01mfrom\u001b[39;00m \u001b[38;5;21;01mpitchplotter\u001b[39;00m\u001b[38;5;21;01m.\u001b[39;00m\u001b[38;5;21;01mplotter\u001b[39;00m \u001b[38;5;28;01mimport\u001b[39;00m Plotter\n\u001b[0;32m      3\u001b[0m plotter \u001b[38;5;241m=\u001b[39m Plotter(\u001b[38;5;124m\"\u001b[39m\u001b[38;5;124mDemo\u001b[39m\u001b[38;5;124m\"\u001b[39m)\n\u001b[0;32m      5\u001b[0m \u001b[38;5;66;03m#create array as follows: [xpos, ypos, 'event name', event size]\u001b[39;00m\n",
      "\u001b[1;31mModuleNotFoundError\u001b[0m: No module named 'pitchplotter'"
     ]
    }
   ],
   "source": [
    "import plotly\n",
    "import plotly.graph_objects as go\n",
    "from PIL import Image\n",
    "\n",
    "img = Image.open('./pitch.png')\n",
    "fig = go.Figure()\n",
    "\n",
    "fig.add_trace(\n",
    "    go.Scatter(x=[0, 110, 112, 114, 115, 130],\n",
    "               y=[0, 65, 55, 49, 53, 90],\n",
    "                mode='markers',\n",
    "                marker=dict(size=15,\n",
    "                color='red'),\n",
    "               name='Salah'\n",
    "))\n",
    "\n",
    "# axis hide、yaxis reversed\n",
    "fig.update_layout(\n",
    "    autosize=False,\n",
    "    width=1163,\n",
    "    height=783,\n",
    "    xaxis=dict(visible=True,autorange=True),\n",
    "    yaxis=dict(visible=True,autorange='reversed')\n",
    ")\n",
    "\n",
    "# background image add\n",
    "fig.add_layout_image(\n",
    "    dict(source=img,\n",
    "         xref='x',\n",
    "         yref='y',\n",
    "         x=0,\n",
    "         y=0,\n",
    "         sizex=135,\n",
    "         sizey=95,\n",
    "         sizing='stretch',\n",
    "         opacity=0.9,\n",
    "         layer='below')\n",
    ")\n",
    "\n",
    "# Set templates\n",
    "fig.update_layout(template=\"plotly_white\")\n",
    "\n",
    "fig.show()"
   ]
  },
  {
   "cell_type": "code",
   "execution_count": null,
   "id": "a306c9e7-589a-429d-93c4-55c587a20341",
   "metadata": {},
   "outputs": [],
   "source": []
  }
 ],
 "metadata": {
  "kernelspec": {
   "display_name": "Python 3 (ipykernel)",
   "language": "python",
   "name": "python3"
  },
  "language_info": {
   "codemirror_mode": {
    "name": "ipython",
    "version": 3
   },
   "file_extension": ".py",
   "mimetype": "text/x-python",
   "name": "python",
   "nbconvert_exporter": "python",
   "pygments_lexer": "ipython3",
   "version": "3.9.7"
  }
 },
 "nbformat": 4,
 "nbformat_minor": 5
}
